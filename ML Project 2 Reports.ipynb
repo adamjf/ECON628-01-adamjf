{
 "cells": [
  {
   "cell_type": "code",
   "execution_count": 113,
   "metadata": {
    "collapsed": false
   },
   "outputs": [],
   "source": [
    "# ADAM FRANKLIN\n",
    "# ML PROJECT 2 Reports"
   ]
  },
  {
   "cell_type": "code",
   "execution_count": null,
   "metadata": {
    "collapsed": true
   },
   "outputs": [],
   "source": [
    "#Statistical report - We compile data from Charlotte, NC traffic stops for the year 2016 and monthly weather observation\n",
    "# summaries (to match the monthly form of the police data). We investigate the effects of officer and driver race, gender,\n",
    "# age/tenure, and reason for stop on the odds that the stop ends in arrest. We use OLS, regularized regression methods of \n",
    "# Lasso, Ridge, and elastic net. We go on to use the unsupervised methods known as regression tree and random forest regression\n",
    "# tree. The explanatory power of all methods is within 1 percentage point of one another at 6%. Just a few features are found\n",
    "# to have the most predictive power, although different methods differ on the quantitative difference between them. The order\n",
    "# at least remains the same: DWI, investigation, black driver. Most interestingly, all agree that being black (#3 determinant\n",
    "# of arrest) is just about half as likely to get you arrested as being the subject of a stop resulting from an ongoing \n",
    "# investigation. Methods differ on the relationship of these two variables to the most important determinant in arrest: being\n",
    "# stopped for suspicion of driving while impaired. Random forest regression tree method estimates that being black is about 1/8\n",
    "# as likely to get you arrested as being stopped for suspicion of DWI (lowest value of all methods), while Lasso estimates\n",
    "# that it is 1/3 as bad! All methods agree that other variables have tiny to insignificant effects on arrest outcome.\n",
    "# The largest problem with this analysis has been my inability to separate the categorical dummy variables I created with \n",
    "# repeat names, i.e. male male female female columns for driver and officer gender. As these features don't stand out in the\n",
    "# analysis we can overlook them for now, but I'd prefer to know which was which as they are the third-tier determinants, not\n",
    "# completely insignificant.\n",
    "# The maximum potential of knowledge to be drawn, I believe, from this data is in the interactions. Going forward, I would like\n",
    "# to do a massive gridsearch of 2- and 3- and even 4-level interaction between columns, i.e. what if the stop is a white male\n",
    "# officer and a black male driver, or white male officer / white female driver, or white male officer / nonwhite female driver.\n",
    "# At the level of analysis performed, the different methods provided similar results with a similar input of time. I believe\n",
    "# doing the type of analysis explained here, I would generate multi-dimensional interaction variables or, better, find a way\n",
    "# to do a gridsearch of thousands to tens of thousands of them and implement a random forest regression tree with pruning.\n",
    "# And I'd need a lot of computing power...\n",
    "\n",
    "\n",
    "# Non-statistical analysis: The primary determinant, by any measure, of a stop resulting in arrest is being pulled over \n",
    "# for suspicion of driving while intoxicated. This makes sense and, as a policy, probably shouldn't change. Being stopped\n",
    "# during an investigation is number two. Alarmingly, but probably not surprisingly, being black is the third most important\n",
    "# determinant of being arrested during a traffic stop. Weather is not found to play a significant role in arrest outcomes of \n",
    "# stops. \n",
    "    "
   ]
  }
 ],
 "metadata": {
  "anaconda-cloud": {},
  "kernelspec": {
   "display_name": "Python 2",
   "language": "python",
   "name": "python2"
  },
  "language_info": {
   "codemirror_mode": {
    "name": "ipython",
    "version": 2
   },
   "file_extension": ".py",
   "mimetype": "text/x-python",
   "name": "python",
   "nbconvert_exporter": "python",
   "pygments_lexer": "ipython2",
   "version": "2.7.13"
  }
 },
 "nbformat": 4,
 "nbformat_minor": 0
}
